{
 "cells": [
  {
   "cell_type": "code",
   "execution_count": 1,
   "metadata": {
    "colab": {},
    "colab_type": "code",
    "id": "fgWLf2CpU8N2"
   },
   "outputs": [],
   "source": [
    "import numpy as np\n",
    "import pandas as pd\n",
    "from sklearn.model_selection import KFold, cross_val_score\n",
    "from sklearn.preprocessing import StandardScaler\n",
    "from sklearn.ensemble import GradientBoostingClassifier\n",
    "from sklearn.linear_model import LogisticRegression\n",
    "import datetime\n",
    "\n",
    "%matplotlib inline"
   ]
  },
  {
   "cell_type": "code",
   "execution_count": 2,
   "metadata": {
    "colab": {
     "base_uri": "https://localhost:8080/",
     "height": 284
    },
    "colab_type": "code",
    "id": "3W_t_PasegWD",
    "outputId": "c7b93234-e5ea-419d-8c92-8dd9c47555bb"
   },
   "outputs": [
    {
     "data": {
      "text/html": [
       "<div>\n",
       "<style scoped>\n",
       "    .dataframe tbody tr th:only-of-type {\n",
       "        vertical-align: middle;\n",
       "    }\n",
       "\n",
       "    .dataframe tbody tr th {\n",
       "        vertical-align: top;\n",
       "    }\n",
       "\n",
       "    .dataframe thead th {\n",
       "        text-align: right;\n",
       "    }\n",
       "</style>\n",
       "<table border=\"1\" class=\"dataframe\">\n",
       "  <thead>\n",
       "    <tr style=\"text-align: right;\">\n",
       "      <th></th>\n",
       "      <th>start_time</th>\n",
       "      <th>lobby_type</th>\n",
       "      <th>r1_hero</th>\n",
       "      <th>r1_level</th>\n",
       "      <th>r1_xp</th>\n",
       "      <th>r1_gold</th>\n",
       "      <th>r1_lh</th>\n",
       "      <th>r1_kills</th>\n",
       "      <th>r1_deaths</th>\n",
       "      <th>r1_items</th>\n",
       "      <th>...</th>\n",
       "      <th>dire_boots_count</th>\n",
       "      <th>dire_ward_observer_count</th>\n",
       "      <th>dire_ward_sentry_count</th>\n",
       "      <th>dire_first_ward_time</th>\n",
       "      <th>duration</th>\n",
       "      <th>radiant_win</th>\n",
       "      <th>tower_status_radiant</th>\n",
       "      <th>tower_status_dire</th>\n",
       "      <th>barracks_status_radiant</th>\n",
       "      <th>barracks_status_dire</th>\n",
       "    </tr>\n",
       "    <tr>\n",
       "      <th>match_id</th>\n",
       "      <th></th>\n",
       "      <th></th>\n",
       "      <th></th>\n",
       "      <th></th>\n",
       "      <th></th>\n",
       "      <th></th>\n",
       "      <th></th>\n",
       "      <th></th>\n",
       "      <th></th>\n",
       "      <th></th>\n",
       "      <th></th>\n",
       "      <th></th>\n",
       "      <th></th>\n",
       "      <th></th>\n",
       "      <th></th>\n",
       "      <th></th>\n",
       "      <th></th>\n",
       "      <th></th>\n",
       "      <th></th>\n",
       "      <th></th>\n",
       "      <th></th>\n",
       "    </tr>\n",
       "  </thead>\n",
       "  <tbody>\n",
       "    <tr>\n",
       "      <td>0</td>\n",
       "      <td>1430198770</td>\n",
       "      <td>7</td>\n",
       "      <td>11</td>\n",
       "      <td>5</td>\n",
       "      <td>2098</td>\n",
       "      <td>1489</td>\n",
       "      <td>20</td>\n",
       "      <td>0</td>\n",
       "      <td>0</td>\n",
       "      <td>7</td>\n",
       "      <td>...</td>\n",
       "      <td>4</td>\n",
       "      <td>2</td>\n",
       "      <td>2</td>\n",
       "      <td>-52.0</td>\n",
       "      <td>2874</td>\n",
       "      <td>1</td>\n",
       "      <td>1796</td>\n",
       "      <td>0</td>\n",
       "      <td>51</td>\n",
       "      <td>0</td>\n",
       "    </tr>\n",
       "    <tr>\n",
       "      <td>1</td>\n",
       "      <td>1430220345</td>\n",
       "      <td>0</td>\n",
       "      <td>42</td>\n",
       "      <td>4</td>\n",
       "      <td>1188</td>\n",
       "      <td>1033</td>\n",
       "      <td>9</td>\n",
       "      <td>0</td>\n",
       "      <td>1</td>\n",
       "      <td>12</td>\n",
       "      <td>...</td>\n",
       "      <td>4</td>\n",
       "      <td>3</td>\n",
       "      <td>1</td>\n",
       "      <td>-5.0</td>\n",
       "      <td>2463</td>\n",
       "      <td>1</td>\n",
       "      <td>1974</td>\n",
       "      <td>0</td>\n",
       "      <td>63</td>\n",
       "      <td>1</td>\n",
       "    </tr>\n",
       "    <tr>\n",
       "      <td>2</td>\n",
       "      <td>1430227081</td>\n",
       "      <td>7</td>\n",
       "      <td>33</td>\n",
       "      <td>4</td>\n",
       "      <td>1319</td>\n",
       "      <td>1270</td>\n",
       "      <td>22</td>\n",
       "      <td>0</td>\n",
       "      <td>0</td>\n",
       "      <td>12</td>\n",
       "      <td>...</td>\n",
       "      <td>4</td>\n",
       "      <td>3</td>\n",
       "      <td>1</td>\n",
       "      <td>13.0</td>\n",
       "      <td>2130</td>\n",
       "      <td>0</td>\n",
       "      <td>0</td>\n",
       "      <td>1830</td>\n",
       "      <td>0</td>\n",
       "      <td>63</td>\n",
       "    </tr>\n",
       "    <tr>\n",
       "      <td>3</td>\n",
       "      <td>1430263531</td>\n",
       "      <td>1</td>\n",
       "      <td>29</td>\n",
       "      <td>4</td>\n",
       "      <td>1779</td>\n",
       "      <td>1056</td>\n",
       "      <td>14</td>\n",
       "      <td>0</td>\n",
       "      <td>0</td>\n",
       "      <td>5</td>\n",
       "      <td>...</td>\n",
       "      <td>4</td>\n",
       "      <td>2</td>\n",
       "      <td>0</td>\n",
       "      <td>27.0</td>\n",
       "      <td>1459</td>\n",
       "      <td>0</td>\n",
       "      <td>1920</td>\n",
       "      <td>2047</td>\n",
       "      <td>50</td>\n",
       "      <td>63</td>\n",
       "    </tr>\n",
       "    <tr>\n",
       "      <td>4</td>\n",
       "      <td>1430282290</td>\n",
       "      <td>7</td>\n",
       "      <td>13</td>\n",
       "      <td>4</td>\n",
       "      <td>1431</td>\n",
       "      <td>1090</td>\n",
       "      <td>8</td>\n",
       "      <td>1</td>\n",
       "      <td>0</td>\n",
       "      <td>8</td>\n",
       "      <td>...</td>\n",
       "      <td>3</td>\n",
       "      <td>3</td>\n",
       "      <td>0</td>\n",
       "      <td>-16.0</td>\n",
       "      <td>2449</td>\n",
       "      <td>0</td>\n",
       "      <td>4</td>\n",
       "      <td>1974</td>\n",
       "      <td>3</td>\n",
       "      <td>63</td>\n",
       "    </tr>\n",
       "  </tbody>\n",
       "</table>\n",
       "<p>5 rows × 108 columns</p>\n",
       "</div>"
      ],
      "text/plain": [
       "          start_time  lobby_type  r1_hero  r1_level  r1_xp  r1_gold  r1_lh  \\\n",
       "match_id                                                                     \n",
       "0         1430198770           7       11         5   2098     1489     20   \n",
       "1         1430220345           0       42         4   1188     1033      9   \n",
       "2         1430227081           7       33         4   1319     1270     22   \n",
       "3         1430263531           1       29         4   1779     1056     14   \n",
       "4         1430282290           7       13         4   1431     1090      8   \n",
       "\n",
       "          r1_kills  r1_deaths  r1_items  ...  dire_boots_count  \\\n",
       "match_id                                 ...                     \n",
       "0                0          0         7  ...                 4   \n",
       "1                0          1        12  ...                 4   \n",
       "2                0          0        12  ...                 4   \n",
       "3                0          0         5  ...                 4   \n",
       "4                1          0         8  ...                 3   \n",
       "\n",
       "          dire_ward_observer_count  dire_ward_sentry_count  \\\n",
       "match_id                                                     \n",
       "0                                2                       2   \n",
       "1                                3                       1   \n",
       "2                                3                       1   \n",
       "3                                2                       0   \n",
       "4                                3                       0   \n",
       "\n",
       "          dire_first_ward_time  duration  radiant_win  tower_status_radiant  \\\n",
       "match_id                                                                      \n",
       "0                        -52.0      2874            1                  1796   \n",
       "1                         -5.0      2463            1                  1974   \n",
       "2                         13.0      2130            0                     0   \n",
       "3                         27.0      1459            0                  1920   \n",
       "4                        -16.0      2449            0                     4   \n",
       "\n",
       "          tower_status_dire  barracks_status_radiant  barracks_status_dire  \n",
       "match_id                                                                    \n",
       "0                         0                       51                     0  \n",
       "1                         0                       63                     1  \n",
       "2                      1830                        0                    63  \n",
       "3                      2047                       50                    63  \n",
       "4                      1974                        3                    63  \n",
       "\n",
       "[5 rows x 108 columns]"
      ]
     },
     "execution_count": 2,
     "metadata": {},
     "output_type": "execute_result"
    }
   ],
   "source": [
    "train_df = pd.read_csv('~/Downloads/features.csv', index_col='match_id')\n",
    "train_df.head()"
   ]
  },
  {
   "cell_type": "code",
   "execution_count": 3,
   "metadata": {
    "colab": {},
    "colab_type": "code",
    "id": "tfGIEB9-e43S"
   },
   "outputs": [],
   "source": [
    "end_match_feat = [\"duration\", \"tower_status_radiant\", \"tower_status_dire\", \"barracks_status_radiant\", \"barracks_status_dire\",]\n",
    "train_df.drop(end_match_feat, inplace=True, axis=1)"
   ]
  },
  {
   "cell_type": "code",
   "execution_count": 4,
   "metadata": {
    "colab": {
     "base_uri": "https://localhost:8080/",
     "height": 221
    },
    "colab_type": "code",
    "id": "oLI42ZZTfWD-",
    "outputId": "012a835f-d41f-434d-95d7-f6449f09682c"
   },
   "outputs": [
    {
     "data": {
      "text/plain": [
       "dire_courier_time              0.006953\n",
       "radiant_courier_time           0.007117\n",
       "dire_first_ward_time           0.018780\n",
       "radiant_first_ward_time        0.018883\n",
       "radiant_bottle_time            0.161380\n",
       "dire_bottle_time               0.166029\n",
       "first_blood_time               0.201100\n",
       "first_blood_team               0.201100\n",
       "first_blood_player1            0.201100\n",
       "dire_flying_courier_time       0.268415\n",
       "radiant_flying_courier_time    0.282619\n",
       "first_blood_player2            0.452402\n",
       "dtype: float64"
      ]
     },
     "execution_count": 4,
     "metadata": {},
     "output_type": "execute_result"
    }
   ],
   "source": [
    "na = len(train_df) - train_df.count()\n",
    "na[na!=0].sort_values()/len(train_df)"
   ]
  },
  {
   "cell_type": "code",
   "execution_count": 5,
   "metadata": {
    "colab": {},
    "colab_type": "code",
    "id": "LfMRnP2uglPj"
   },
   "outputs": [],
   "source": [
    "train_df.fillna(0, inplace=True)"
   ]
  },
  {
   "cell_type": "code",
   "execution_count": 6,
   "metadata": {
    "colab": {},
    "colab_type": "code",
    "id": "EmaFUtngk3bs"
   },
   "outputs": [],
   "source": [
    "y_train = train_df['radiant_win']\n",
    "x_train = train_df.drop(['radiant_win'], axis=1)"
   ]
  },
  {
   "cell_type": "code",
   "execution_count": 7,
   "metadata": {
    "colab": {
     "base_uri": "https://localhost:8080/"
    },
    "colab_type": "code",
    "id": "-scIwM6vlOt3",
    "outputId": "979a85c9-5161-4452-9d1f-ffbebd5833ab"
   },
   "outputs": [
    {
     "name": "stdout",
     "output_type": "stream",
     "text": [
      "10\testimators\n",
      "score:\t0.6648506879750012\n",
      "total time:\t0:00:37.497938\n",
      "\n",
      "20\testimators\n",
      "score:\t0.6824618768044435\n",
      "total time:\t0:00:58.038499\n",
      "\n",
      "30\testimators\n",
      "score:\t0.6900064710388155\n",
      "total time:\t0:01:09.534555\n",
      "\n",
      "50\testimators\n",
      "score:\t0.6974943609466162\n",
      "total time:\t0:01:49.832113\n",
      "\n",
      "100\testimators\n",
      "score:\t0.7062229783991214\n",
      "total time:\t0:03:33.802157\n",
      "\n",
      "250\testimators\n",
      "score:\t0.7159148634004586\n",
      "total time:\t0:09:02.913888\n",
      "\n"
     ]
    },
    {
     "data": {
      "text/plain": [
       "<matplotlib.axes._subplots.AxesSubplot at 0x1a2299df90>"
      ]
     },
     "execution_count": 7,
     "metadata": {},
     "output_type": "execute_result"
    },
    {
     "data": {
      "image/png": "[encoded data removed]",
      "text/plain": [
       "<Figure size 432x288 with 1 Axes>"
      ]
     },
     "metadata": {
      "needs_background": "light"
     },
     "output_type": "display_data"
    }
   ],
   "source": [
    "cross_V = KFold(n_splits=5, random_state=42, shuffle=True)\n",
    "\n",
    "def gbc_Score(x, y) -> pd.Series:\n",
    "  res = {}\n",
    "\n",
    "  for n in [10, 20, 30, 50, 100, 250]:\n",
    "    print(str(n) + \"\\testimators\")\n",
    "    clf = GradientBoostingClassifier(n_estimators=n, random_state=42)\n",
    "    time_0 = datetime.datetime.now()\n",
    "    score = cross_val_score(clf, x, y, cv=cross_V, n_jobs=-1, scoring='roc_auc').mean()\n",
    "    print('score:\\t' + str(score))\n",
    "    print('total time:\\t' + str(datetime.datetime.now() - time_0) + '\\n')\n",
    "\n",
    "    res[n] = score\n",
    "  return pd.Series(res)\n",
    "\n",
    "all_Scores = gbc_Score(x_train, y_train)\n",
    "all_Scores.plot()"
   ]
  },
  {
   "cell_type": "code",
   "execution_count": 8,
   "metadata": {
    "colab": {},
    "colab_type": "code",
    "id": "3bgO0d0hqH-F"
   },
   "outputs": [
    {
     "name": "stdout",
     "output_type": "stream",
     "text": [
      "reg'n param:\t1e-05\n",
      "score:\t0.6951616854636576\n",
      "total_time:\t0:00:04.332566\n",
      "\n",
      "reg'n param:\t0.0001\n",
      "score:\t0.7113577471434336\n",
      "total_time:\t0:00:04.522822\n",
      "\n",
      "reg'n param:\t0.001\n",
      "score:\t0.7163635378209221\n",
      "total_time:\t0:00:07.331357\n",
      "\n",
      "reg'n param:\t0.01\n",
      "score:\t0.716550269725914\n",
      "total_time:\t0:00:08.615095\n",
      "\n",
      "reg'n param:\t0.1\n",
      "score:\t0.7165271486657934\n",
      "total_time:\t0:00:10.390369\n",
      "\n",
      "reg'n param:\t1.0\n",
      "score:\t0.7165226003626437\n",
      "total_time:\t0:00:11.507659\n",
      "\n",
      "reg'n param:\t10.0\n",
      "score:\t0.7165222888959446\n",
      "total_time:\t0:00:10.327461\n",
      "\n",
      "reg'n param:\t100.0\n",
      "score:\t0.7165222952575674\n",
      "total_time:\t0:00:12.719363\n",
      "\n",
      "reg'n param:\t1000.0\n",
      "score:\t0.7165223227963708\n",
      "total_time:\t0:00:10.338642\n",
      "\n",
      "reg'n param:\t10000.0\n",
      "score:\t0.7165223270325809\n",
      "total_time:\t0:00:10.470182\n",
      "\n",
      "reg'n param:\t100000.0\n",
      "score:\t0.7165223312691259\n",
      "total_time:\t0:00:10.206303\n",
      "\n"
     ]
    },
    {
     "data": {
      "text/plain": [
       "<matplotlib.axes._subplots.AxesSubplot at 0x1a23d810d0>"
      ]
     },
     "execution_count": 8,
     "metadata": {},
     "output_type": "execute_result"
    },
    {
     "data": {
      "image/png": "[encoded data removed]",
      "text/plain": [
       "<Figure size 432x288 with 1 Axes>"
      ]
     },
     "metadata": {
      "needs_background": "light"
     },
     "output_type": "display_data"
    }
   ],
   "source": [
    "std_Scaler = StandardScaler()\n",
    "x_train = pd.DataFrame(std_Scaler.fit_transform(x_train), columns=x_train.columns, index=x_train.index)\n",
    "\n",
    "def logreg_Score(x, y) -> pd.Series:\n",
    "  res = {}\n",
    "  for i in range(-5, 6):\n",
    "    c = 10.0 ** i\n",
    "    print('reg\\'n param:\\t' + str(c))\n",
    "    model = LogisticRegression(C=c, random_state=42)\n",
    "    time_0 = datetime.datetime.now()\n",
    "    score = cross_val_score(model, x, y, cv=cross_V, n_jobs=-1, scoring='roc_auc').mean()\n",
    "    print('score:\\t' + str(score))\n",
    "    print('total_time:\\t' + str(datetime.datetime.now() - time_0) + '\\n')\n",
    "    res[i] = score\n",
    "  return pd.Series(res)\n",
    "\n",
    "all_Scores = logreg_Score(x_train, y_train)\n",
    "all_Scores.plot()"
   ]
  },
  {
   "cell_type": "code",
   "execution_count": 15,
   "metadata": {
    "colab": {
     "base_uri": "https://localhost:8080/",
     "height": 252
    },
    "colab_type": "code",
    "id": "LVUX16Jjtc8n",
    "outputId": "c87ffd9b-c646-4e48-bf7a-7255253b1a81"
   },
   "outputs": [
    {
     "name": "stdout",
     "output_type": "stream",
     "text": [
      "the best auc-roc score is 0.717  and it is achieved at c = 0.01\n"
     ]
    }
   ],
   "source": [
    "def best_logreg_score(all_Scores):\n",
    "  best = all_Scores.sort_values(ascending=False).head(1)\n",
    "  best_param = 10.0 ** best.index[0]\n",
    "  best_score = best.values[0]\n",
    "\n",
    "  print('the best auc-roc score is', f\"{best_score:.3f}\", ' and it is achieved at c = ' + str(best_param))\n",
    "\n",
    "best_logreg_score(all_Scores)"
   ]
  },
  {
   "cell_type": "code",
   "execution_count": 16,
   "metadata": {
    "colab": {},
    "colab_type": "code",
    "id": "LthhxKJquQz7"
   },
   "outputs": [],
   "source": [
    "categ_cols = ['lobby_type',\n",
    "              'r1_hero', 'd1_hero',\n",
    "              'r2_hero', 'd2_hero',\n",
    "              'r3_hero', 'd3_hero',\n",
    "              'r4_hero', 'd4_hero',\n",
    "              'r5_hero', 'd5_hero']\n",
    "x_train.drop(categ_cols, axis=1, inplace=True)                      "
   ]
  },
  {
   "cell_type": "code",
   "execution_count": 17,
   "metadata": {
    "colab": {},
    "colab_type": "code",
    "id": "6b8hdiV1yOhY"
   },
   "outputs": [
    {
     "name": "stdout",
     "output_type": "stream",
     "text": [
      "reg'n param:\t1e-05\n",
      "score:\t0.6951001913436112\n",
      "total_time:\t0:00:06.096334\n",
      "\n",
      "reg'n param:\t0.0001\n",
      "score:\t0.7113391458629873\n",
      "total_time:\t0:00:03.632046\n",
      "\n",
      "reg'n param:\t0.001\n",
      "score:\t0.7163757999081172\n",
      "total_time:\t0:00:06.684888\n",
      "\n",
      "reg'n param:\t0.01\n",
      "score:\t0.7165593885630225\n",
      "total_time:\t0:00:07.800592\n",
      "\n",
      "reg'n param:\t0.1\n",
      "score:\t0.7165342403465319\n",
      "total_time:\t0:00:08.628629\n",
      "\n",
      "reg'n param:\t1.0\n",
      "score:\t0.7165303634514961\n",
      "total_time:\t0:00:08.697914\n",
      "\n",
      "reg'n param:\t10.0\n",
      "score:\t0.7165299715025929\n",
      "total_time:\t0:00:09.424746\n",
      "\n",
      "reg'n param:\t100.0\n",
      "score:\t0.7165298910060073\n",
      "total_time:\t0:00:08.571457\n",
      "\n",
      "reg'n param:\t1000.0\n",
      "score:\t0.7165298888849942\n",
      "total_time:\t0:00:09.617197\n",
      "\n",
      "reg'n param:\t10000.0\n",
      "score:\t0.716529884649503\n",
      "total_time:\t0:00:08.800503\n",
      "\n",
      "reg'n param:\t100000.0\n",
      "score:\t0.716529884649503\n",
      "total_time:\t0:00:10.343838\n",
      "\n",
      "the best auc-roc score is 0.717  and it is achieved at c = 0.01\n"
     ]
    },
    {
     "data": {
      "image/png": "[encoded data removed]",
      "text/plain": [
       "<Figure size 432x288 with 1 Axes>"
      ]
     },
     "metadata": {
      "needs_background": "light"
     },
     "output_type": "display_data"
    }
   ],
   "source": [
    "all_Scores = logreg_Score(x_train, y_train)\n",
    "all_Scores.plot()\n",
    "best_logreg_score(all_Scores)"
   ]
  },
  {
   "cell_type": "code",
   "execution_count": 20,
   "metadata": {
    "colab": {},
    "colab_type": "code",
    "id": "m45F2IvNzGZz"
   },
   "outputs": [
    {
     "name": "stdout",
     "output_type": "stream",
     "text": [
      "heroes in total 112\n"
     ]
    }
   ],
   "source": [
    "all_heroes = np.unique(train_df[['r1_hero', 'd1_hero',\n",
    "              'r2_hero', 'd2_hero',\n",
    "              'r3_hero', 'd3_hero',\n",
    "              'r4_hero', 'd4_hero',\n",
    "              'r5_hero', 'd5_hero']].values.ravel())\n",
    "n = max(all_heroes)\n",
    "print('heroes in total', n)"
   ]
  },
  {
   "cell_type": "code",
   "execution_count": 22,
   "metadata": {
    "colab": {},
    "colab_type": "code",
    "id": "qnBf7EiP0fgp"
   },
   "outputs": [
    {
     "data": {
      "text/html": [
       "<div>\n",
       "<style scoped>\n",
       "    .dataframe tbody tr th:only-of-type {\n",
       "        vertical-align: middle;\n",
       "    }\n",
       "\n",
       "    .dataframe tbody tr th {\n",
       "        vertical-align: top;\n",
       "    }\n",
       "\n",
       "    .dataframe thead th {\n",
       "        text-align: right;\n",
       "    }\n",
       "</style>\n",
       "<table border=\"1\" class=\"dataframe\">\n",
       "  <thead>\n",
       "    <tr style=\"text-align: right;\">\n",
       "      <th></th>\n",
       "      <th>hero0</th>\n",
       "      <th>hero1</th>\n",
       "      <th>hero2</th>\n",
       "      <th>hero3</th>\n",
       "      <th>hero4</th>\n",
       "      <th>hero5</th>\n",
       "      <th>hero6</th>\n",
       "      <th>hero7</th>\n",
       "      <th>hero8</th>\n",
       "      <th>hero9</th>\n",
       "      <th>...</th>\n",
       "      <th>hero102</th>\n",
       "      <th>hero103</th>\n",
       "      <th>hero104</th>\n",
       "      <th>hero105</th>\n",
       "      <th>hero106</th>\n",
       "      <th>hero107</th>\n",
       "      <th>hero108</th>\n",
       "      <th>hero109</th>\n",
       "      <th>hero110</th>\n",
       "      <th>hero111</th>\n",
       "    </tr>\n",
       "    <tr>\n",
       "      <th>match_id</th>\n",
       "      <th></th>\n",
       "      <th></th>\n",
       "      <th></th>\n",
       "      <th></th>\n",
       "      <th></th>\n",
       "      <th></th>\n",
       "      <th></th>\n",
       "      <th></th>\n",
       "      <th></th>\n",
       "      <th></th>\n",
       "      <th></th>\n",
       "      <th></th>\n",
       "      <th></th>\n",
       "      <th></th>\n",
       "      <th></th>\n",
       "      <th></th>\n",
       "      <th></th>\n",
       "      <th></th>\n",
       "      <th></th>\n",
       "      <th></th>\n",
       "      <th></th>\n",
       "    </tr>\n",
       "  </thead>\n",
       "  <tbody>\n",
       "    <tr>\n",
       "      <td>0</td>\n",
       "      <td>0.0</td>\n",
       "      <td>0.0</td>\n",
       "      <td>0.0</td>\n",
       "      <td>-1.0</td>\n",
       "      <td>0.0</td>\n",
       "      <td>0.0</td>\n",
       "      <td>0.0</td>\n",
       "      <td>0.0</td>\n",
       "      <td>0.0</td>\n",
       "      <td>0.0</td>\n",
       "      <td>...</td>\n",
       "      <td>0.0</td>\n",
       "      <td>0.0</td>\n",
       "      <td>0.0</td>\n",
       "      <td>0.0</td>\n",
       "      <td>0.0</td>\n",
       "      <td>0.0</td>\n",
       "      <td>0.0</td>\n",
       "      <td>0.0</td>\n",
       "      <td>0.0</td>\n",
       "      <td>0.0</td>\n",
       "    </tr>\n",
       "    <tr>\n",
       "      <td>1</td>\n",
       "      <td>0.0</td>\n",
       "      <td>0.0</td>\n",
       "      <td>0.0</td>\n",
       "      <td>0.0</td>\n",
       "      <td>0.0</td>\n",
       "      <td>0.0</td>\n",
       "      <td>-1.0</td>\n",
       "      <td>0.0</td>\n",
       "      <td>0.0</td>\n",
       "      <td>0.0</td>\n",
       "      <td>...</td>\n",
       "      <td>0.0</td>\n",
       "      <td>0.0</td>\n",
       "      <td>0.0</td>\n",
       "      <td>0.0</td>\n",
       "      <td>0.0</td>\n",
       "      <td>0.0</td>\n",
       "      <td>0.0</td>\n",
       "      <td>0.0</td>\n",
       "      <td>0.0</td>\n",
       "      <td>0.0</td>\n",
       "    </tr>\n",
       "    <tr>\n",
       "      <td>2</td>\n",
       "      <td>0.0</td>\n",
       "      <td>0.0</td>\n",
       "      <td>0.0</td>\n",
       "      <td>0.0</td>\n",
       "      <td>0.0</td>\n",
       "      <td>0.0</td>\n",
       "      <td>0.0</td>\n",
       "      <td>0.0</td>\n",
       "      <td>0.0</td>\n",
       "      <td>0.0</td>\n",
       "      <td>...</td>\n",
       "      <td>0.0</td>\n",
       "      <td>0.0</td>\n",
       "      <td>0.0</td>\n",
       "      <td>0.0</td>\n",
       "      <td>0.0</td>\n",
       "      <td>0.0</td>\n",
       "      <td>0.0</td>\n",
       "      <td>0.0</td>\n",
       "      <td>0.0</td>\n",
       "      <td>0.0</td>\n",
       "    </tr>\n",
       "    <tr>\n",
       "      <td>3</td>\n",
       "      <td>0.0</td>\n",
       "      <td>0.0</td>\n",
       "      <td>0.0</td>\n",
       "      <td>0.0</td>\n",
       "      <td>0.0</td>\n",
       "      <td>0.0</td>\n",
       "      <td>0.0</td>\n",
       "      <td>0.0</td>\n",
       "      <td>0.0</td>\n",
       "      <td>0.0</td>\n",
       "      <td>...</td>\n",
       "      <td>0.0</td>\n",
       "      <td>0.0</td>\n",
       "      <td>0.0</td>\n",
       "      <td>0.0</td>\n",
       "      <td>0.0</td>\n",
       "      <td>0.0</td>\n",
       "      <td>0.0</td>\n",
       "      <td>0.0</td>\n",
       "      <td>0.0</td>\n",
       "      <td>0.0</td>\n",
       "    </tr>\n",
       "    <tr>\n",
       "      <td>4</td>\n",
       "      <td>0.0</td>\n",
       "      <td>0.0</td>\n",
       "      <td>0.0</td>\n",
       "      <td>0.0</td>\n",
       "      <td>0.0</td>\n",
       "      <td>0.0</td>\n",
       "      <td>0.0</td>\n",
       "      <td>0.0</td>\n",
       "      <td>0.0</td>\n",
       "      <td>0.0</td>\n",
       "      <td>...</td>\n",
       "      <td>0.0</td>\n",
       "      <td>0.0</td>\n",
       "      <td>0.0</td>\n",
       "      <td>0.0</td>\n",
       "      <td>0.0</td>\n",
       "      <td>0.0</td>\n",
       "      <td>0.0</td>\n",
       "      <td>0.0</td>\n",
       "      <td>0.0</td>\n",
       "      <td>0.0</td>\n",
       "    </tr>\n",
       "  </tbody>\n",
       "</table>\n",
       "<p>5 rows × 112 columns</p>\n",
       "</div>"
      ],
      "text/plain": [
       "          hero0  hero1  hero2  hero3  hero4  hero5  hero6  hero7  hero8  \\\n",
       "match_id                                                                  \n",
       "0           0.0    0.0    0.0   -1.0    0.0    0.0    0.0    0.0    0.0   \n",
       "1           0.0    0.0    0.0    0.0    0.0    0.0   -1.0    0.0    0.0   \n",
       "2           0.0    0.0    0.0    0.0    0.0    0.0    0.0    0.0    0.0   \n",
       "3           0.0    0.0    0.0    0.0    0.0    0.0    0.0    0.0    0.0   \n",
       "4           0.0    0.0    0.0    0.0    0.0    0.0    0.0    0.0    0.0   \n",
       "\n",
       "          hero9  ...  hero102  hero103  hero104  hero105  hero106  hero107  \\\n",
       "match_id         ...                                                         \n",
       "0           0.0  ...      0.0      0.0      0.0      0.0      0.0      0.0   \n",
       "1           0.0  ...      0.0      0.0      0.0      0.0      0.0      0.0   \n",
       "2           0.0  ...      0.0      0.0      0.0      0.0      0.0      0.0   \n",
       "3           0.0  ...      0.0      0.0      0.0      0.0      0.0      0.0   \n",
       "4           0.0  ...      0.0      0.0      0.0      0.0      0.0      0.0   \n",
       "\n",
       "          hero108  hero109  hero110  hero111  \n",
       "match_id                                      \n",
       "0             0.0      0.0      0.0      0.0  \n",
       "1             0.0      0.0      0.0      0.0  \n",
       "2             0.0      0.0      0.0      0.0  \n",
       "3             0.0      0.0      0.0      0.0  \n",
       "4             0.0      0.0      0.0      0.0  \n",
       "\n",
       "[5 rows x 112 columns]"
      ]
     },
     "execution_count": 22,
     "metadata": {},
     "output_type": "execute_result"
    }
   ],
   "source": [
    "def hero_select(df) -> pd.DataFrame:\n",
    "  select = np.zeros((df.shape[0], n))\n",
    "\n",
    "  for i, match_id in enumerate(df.index):\n",
    "    for j in range(1, 5):\n",
    "      select[i, df.loc[match_id, f\"r{j}_hero\"] - 1] = 1\n",
    "      select[i, df.loc[match_id, f\"d{j}_hero\"] - 1] = -1\n",
    "  return pd.DataFrame(select, index=df.index, columns=[f\"hero{i}\" for i in range(n)])\n",
    "\n",
    "select = hero_select(train_df)\n",
    "select.head()"
   ]
  },
  {
   "cell_type": "code",
   "execution_count": 23,
   "metadata": {
    "colab": {},
    "colab_type": "code",
    "id": "qC8fZUKv2U5O"
   },
   "outputs": [
    {
     "name": "stdout",
     "output_type": "stream",
     "text": [
      "reg'n param:\t1e-05\n",
      "score:\t0.6978120218139168\n",
      "total_time:\t0:00:09.169483\n",
      "\n",
      "reg'n param:\t0.0001\n",
      "score:\t0.7209050368211601\n",
      "total_time:\t0:00:06.121576\n",
      "\n",
      "reg'n param:\t0.001\n",
      "score:\t0.7389221609328025\n",
      "total_time:\t0:00:09.742460\n",
      "\n",
      "reg'n param:\t0.01\n",
      "score:\t0.743780857693916\n",
      "total_time:\t0:00:15.062404\n",
      "\n",
      "reg'n param:\t0.1\n",
      "score:\t0.743921881238448\n",
      "total_time:\t0:00:20.094609\n",
      "\n",
      "reg'n param:\t1.0\n",
      "score:\t0.7438944646340476\n",
      "total_time:\t0:00:22.354087\n",
      "\n",
      "reg'n param:\t10.0\n",
      "score:\t0.7438914513701095\n",
      "total_time:\t0:00:21.828794\n",
      "\n",
      "reg'n param:\t100.0\n",
      "score:\t0.7438911886291081\n",
      "total_time:\t0:00:22.035419\n",
      "\n",
      "reg'n param:\t1000.0\n",
      "score:\t0.743891218284897\n",
      "total_time:\t0:00:21.962414\n",
      "\n",
      "reg'n param:\t10000.0\n",
      "score:\t0.7438912818288796\n",
      "total_time:\t0:00:21.411170\n",
      "\n",
      "reg'n param:\t100000.0\n",
      "score:\t0.7438911928491182\n",
      "total_time:\t0:00:22.017601\n",
      "\n",
      "the best auc-roc score is 0.744  and it is achieved at c = 0.1\n"
     ]
    },
    {
     "data": {
      "image/png": "[encoded data removed]",
      "text/plain": [
       "<Figure size 432x288 with 1 Axes>"
      ]
     },
     "metadata": {
      "needs_background": "light"
     },
     "output_type": "display_data"
    }
   ],
   "source": [
    "x_train = pd.concat([x_train, select], axis=1)\n",
    "all_Scores = logreg_Score(x_train, y_train)\n",
    "all_Scores.plot()\n",
    "best_logreg_score(all_Scores)"
   ]
  },
  {
   "cell_type": "code",
   "execution_count": 24,
   "metadata": {
    "colab": {},
    "colab_type": "code",
    "id": "X11IeEaz2wB6"
   },
   "outputs": [
    {
     "name": "stderr",
     "output_type": "stream",
     "text": [
      "/opt/anaconda3/lib/python3.7/site-packages/sklearn/linear_model/logistic.py:432: FutureWarning: Default solver will be changed to 'lbfgs' in 0.22. Specify a solver to silence this warning.\n",
      "  FutureWarning)\n"
     ]
    },
    {
     "data": {
      "text/plain": [
       "LogisticRegression(C=0.1, class_weight=None, dual=False, fit_intercept=True,\n",
       "                   intercept_scaling=1, l1_ratio=None, max_iter=100,\n",
       "                   multi_class='warn', n_jobs=None, penalty='l2',\n",
       "                   random_state=42, solver='warn', tol=0.0001, verbose=0,\n",
       "                   warm_start=False)"
      ]
     },
     "execution_count": 24,
     "metadata": {},
     "output_type": "execute_result"
    }
   ],
   "source": [
    "logreg = LogisticRegression(C=0.1, random_state=42)\n",
    "logreg.fit(x_train, y_train)"
   ]
  },
  {
   "cell_type": "code",
   "execution_count": 25,
   "metadata": {
    "colab": {},
    "colab_type": "code",
    "id": "QZ3q2UlA3MK6"
   },
   "outputs": [],
   "source": [
    "test_df = pd.read_csv(\"~/Downloads/features_test.csv\", index_col=\"match_id\")\n",
    "test_df.fillna(0, inplace=True)"
   ]
  },
  {
   "cell_type": "code",
   "execution_count": 26,
   "metadata": {
    "colab": {},
    "colab_type": "code",
    "id": "9Vo6KW4L3QB7"
   },
   "outputs": [
    {
     "data": {
      "text/html": [
       "<div>\n",
       "<style scoped>\n",
       "    .dataframe tbody tr th:only-of-type {\n",
       "        vertical-align: middle;\n",
       "    }\n",
       "\n",
       "    .dataframe tbody tr th {\n",
       "        vertical-align: top;\n",
       "    }\n",
       "\n",
       "    .dataframe thead th {\n",
       "        text-align: right;\n",
       "    }\n",
       "</style>\n",
       "<table border=\"1\" class=\"dataframe\">\n",
       "  <thead>\n",
       "    <tr style=\"text-align: right;\">\n",
       "      <th></th>\n",
       "      <th>start_time</th>\n",
       "      <th>r1_level</th>\n",
       "      <th>r1_xp</th>\n",
       "      <th>r1_gold</th>\n",
       "      <th>r1_lh</th>\n",
       "      <th>r1_kills</th>\n",
       "      <th>r1_deaths</th>\n",
       "      <th>r1_items</th>\n",
       "      <th>r2_level</th>\n",
       "      <th>r2_xp</th>\n",
       "      <th>...</th>\n",
       "      <th>hero102</th>\n",
       "      <th>hero103</th>\n",
       "      <th>hero104</th>\n",
       "      <th>hero105</th>\n",
       "      <th>hero106</th>\n",
       "      <th>hero107</th>\n",
       "      <th>hero108</th>\n",
       "      <th>hero109</th>\n",
       "      <th>hero110</th>\n",
       "      <th>hero111</th>\n",
       "    </tr>\n",
       "    <tr>\n",
       "      <th>match_id</th>\n",
       "      <th></th>\n",
       "      <th></th>\n",
       "      <th></th>\n",
       "      <th></th>\n",
       "      <th></th>\n",
       "      <th></th>\n",
       "      <th></th>\n",
       "      <th></th>\n",
       "      <th></th>\n",
       "      <th></th>\n",
       "      <th></th>\n",
       "      <th></th>\n",
       "      <th></th>\n",
       "      <th></th>\n",
       "      <th></th>\n",
       "      <th></th>\n",
       "      <th></th>\n",
       "      <th></th>\n",
       "      <th></th>\n",
       "      <th></th>\n",
       "      <th></th>\n",
       "    </tr>\n",
       "  </thead>\n",
       "  <tbody>\n",
       "    <tr>\n",
       "      <td>6</td>\n",
       "      <td>-2.514875</td>\n",
       "      <td>0.474746</td>\n",
       "      <td>-0.237743</td>\n",
       "      <td>-0.137094</td>\n",
       "      <td>-0.370005</td>\n",
       "      <td>-0.532732</td>\n",
       "      <td>1.003884</td>\n",
       "      <td>0.305165</td>\n",
       "      <td>-0.368985</td>\n",
       "      <td>0.003979</td>\n",
       "      <td>...</td>\n",
       "      <td>0.0</td>\n",
       "      <td>0.0</td>\n",
       "      <td>0.0</td>\n",
       "      <td>0.0</td>\n",
       "      <td>0.0</td>\n",
       "      <td>0.0</td>\n",
       "      <td>0.0</td>\n",
       "      <td>0.0</td>\n",
       "      <td>0.0</td>\n",
       "      <td>0.0</td>\n",
       "    </tr>\n",
       "    <tr>\n",
       "      <td>7</td>\n",
       "      <td>-2.513895</td>\n",
       "      <td>-1.365630</td>\n",
       "      <td>-1.207913</td>\n",
       "      <td>-1.255660</td>\n",
       "      <td>-1.145090</td>\n",
       "      <td>-0.532732</td>\n",
       "      <td>-0.593200</td>\n",
       "      <td>0.305165</td>\n",
       "      <td>0.567766</td>\n",
       "      <td>0.023887</td>\n",
       "      <td>...</td>\n",
       "      <td>0.0</td>\n",
       "      <td>0.0</td>\n",
       "      <td>0.0</td>\n",
       "      <td>0.0</td>\n",
       "      <td>0.0</td>\n",
       "      <td>0.0</td>\n",
       "      <td>0.0</td>\n",
       "      <td>0.0</td>\n",
       "      <td>0.0</td>\n",
       "      <td>0.0</td>\n",
       "    </tr>\n",
       "    <tr>\n",
       "      <td>10</td>\n",
       "      <td>-2.512377</td>\n",
       "      <td>-1.365630</td>\n",
       "      <td>-0.862057</td>\n",
       "      <td>-0.742715</td>\n",
       "      <td>-1.145090</td>\n",
       "      <td>-0.532732</td>\n",
       "      <td>-0.593200</td>\n",
       "      <td>1.898546</td>\n",
       "      <td>-1.305736</td>\n",
       "      <td>-1.375081</td>\n",
       "      <td>...</td>\n",
       "      <td>0.0</td>\n",
       "      <td>0.0</td>\n",
       "      <td>0.0</td>\n",
       "      <td>0.0</td>\n",
       "      <td>0.0</td>\n",
       "      <td>0.0</td>\n",
       "      <td>0.0</td>\n",
       "      <td>0.0</td>\n",
       "      <td>0.0</td>\n",
       "      <td>1.0</td>\n",
       "    </tr>\n",
       "    <tr>\n",
       "      <td>13</td>\n",
       "      <td>-2.508381</td>\n",
       "      <td>-0.445442</td>\n",
       "      <td>-0.938323</td>\n",
       "      <td>-0.537967</td>\n",
       "      <td>-1.145090</td>\n",
       "      <td>0.968865</td>\n",
       "      <td>1.003884</td>\n",
       "      <td>1.101855</td>\n",
       "      <td>-1.305736</td>\n",
       "      <td>-0.920823</td>\n",
       "      <td>...</td>\n",
       "      <td>0.0</td>\n",
       "      <td>0.0</td>\n",
       "      <td>0.0</td>\n",
       "      <td>0.0</td>\n",
       "      <td>0.0</td>\n",
       "      <td>0.0</td>\n",
       "      <td>0.0</td>\n",
       "      <td>-1.0</td>\n",
       "      <td>0.0</td>\n",
       "      <td>0.0</td>\n",
       "    </tr>\n",
       "    <tr>\n",
       "      <td>16</td>\n",
       "      <td>-2.507087</td>\n",
       "      <td>0.474746</td>\n",
       "      <td>0.038942</td>\n",
       "      <td>-1.059534</td>\n",
       "      <td>-0.812911</td>\n",
       "      <td>-0.532732</td>\n",
       "      <td>-0.593200</td>\n",
       "      <td>0.305165</td>\n",
       "      <td>1.504517</td>\n",
       "      <td>0.945070</td>\n",
       "      <td>...</td>\n",
       "      <td>0.0</td>\n",
       "      <td>0.0</td>\n",
       "      <td>0.0</td>\n",
       "      <td>0.0</td>\n",
       "      <td>0.0</td>\n",
       "      <td>0.0</td>\n",
       "      <td>0.0</td>\n",
       "      <td>0.0</td>\n",
       "      <td>0.0</td>\n",
       "      <td>0.0</td>\n",
       "    </tr>\n",
       "  </tbody>\n",
       "</table>\n",
       "<p>5 rows × 203 columns</p>\n",
       "</div>"
      ],
      "text/plain": [
       "          start_time  r1_level     r1_xp   r1_gold     r1_lh  r1_kills  \\\n",
       "match_id                                                                 \n",
       "6          -2.514875  0.474746 -0.237743 -0.137094 -0.370005 -0.532732   \n",
       "7          -2.513895 -1.365630 -1.207913 -1.255660 -1.145090 -0.532732   \n",
       "10         -2.512377 -1.365630 -0.862057 -0.742715 -1.145090 -0.532732   \n",
       "13         -2.508381 -0.445442 -0.938323 -0.537967 -1.145090  0.968865   \n",
       "16         -2.507087  0.474746  0.038942 -1.059534 -0.812911 -0.532732   \n",
       "\n",
       "          r1_deaths  r1_items  r2_level     r2_xp  ...  hero102  hero103  \\\n",
       "match_id                                           ...                     \n",
       "6          1.003884  0.305165 -0.368985  0.003979  ...      0.0      0.0   \n",
       "7         -0.593200  0.305165  0.567766  0.023887  ...      0.0      0.0   \n",
       "10        -0.593200  1.898546 -1.305736 -1.375081  ...      0.0      0.0   \n",
       "13         1.003884  1.101855 -1.305736 -0.920823  ...      0.0      0.0   \n",
       "16        -0.593200  0.305165  1.504517  0.945070  ...      0.0      0.0   \n",
       "\n",
       "          hero104  hero105  hero106  hero107  hero108  hero109  hero110  \\\n",
       "match_id                                                                  \n",
       "6             0.0      0.0      0.0      0.0      0.0      0.0      0.0   \n",
       "7             0.0      0.0      0.0      0.0      0.0      0.0      0.0   \n",
       "10            0.0      0.0      0.0      0.0      0.0      0.0      0.0   \n",
       "13            0.0      0.0      0.0      0.0      0.0     -1.0      0.0   \n",
       "16            0.0      0.0      0.0      0.0      0.0      0.0      0.0   \n",
       "\n",
       "          hero111  \n",
       "match_id           \n",
       "6             0.0  \n",
       "7             0.0  \n",
       "10            1.0  \n",
       "13            0.0  \n",
       "16            0.0  \n",
       "\n",
       "[5 rows x 203 columns]"
      ]
     },
     "execution_count": 26,
     "metadata": {},
     "output_type": "execute_result"
    }
   ],
   "source": [
    "x_test = pd.DataFrame(std_Scaler.fit_transform(test_df), columns=test_df.columns, index=test_df.index)\n",
    "x_test.drop(categ_cols, axis=1, inplace=True)\n",
    "x_test = pd.concat([x_test, hero_select(test_df)], axis=1)\n",
    "x_test.head()"
   ]
  },
  {
   "cell_type": "code",
   "execution_count": 29,
   "metadata": {
    "colab": {},
    "colab_type": "code",
    "id": "nMSxAkkN35bm"
   },
   "outputs": [
    {
     "data": {
      "text/plain": [
       "count    17177.000000\n",
       "mean         0.518419\n",
       "std          0.214268\n",
       "min          0.004820\n",
       "25%          0.355411\n",
       "50%          0.523340\n",
       "75%          0.685633\n",
       "max          0.996844\n",
       "dtype: float64"
      ]
     },
     "execution_count": 29,
     "metadata": {},
     "output_type": "execute_result"
    }
   ],
   "source": [
    "pred = pd.Series(logreg.predict_proba(x_test)[:, 1])\n",
    "pred.describe()"
   ]
  },
  {
   "cell_type": "code",
   "execution_count": 30,
   "metadata": {
    "colab": {},
    "colab_type": "code",
    "id": "NFJ9l7lm4PSr"
   },
   "outputs": [
    {
     "data": {
      "text/plain": [
       "<matplotlib.axes._subplots.AxesSubplot at 0x1a23f32c50>"
      ]
     },
     "execution_count": 30,
     "metadata": {},
     "output_type": "execute_result"
    },
    {
     "data": {
      "image/png": "[encoded data removed]",
      "text/plain": [
       "<Figure size 432x288 with 1 Axes>"
      ]
     },
     "metadata": {
      "needs_background": "light"
     },
     "output_type": "display_data"
    }
   ],
   "source": [
    "pred.plot.hist(bins=50)"
   ]
  },
  {
   "cell_type": "code",
   "execution_count": null,
   "metadata": {},
   "outputs": [],
   "source": []
  }
 ],
 "metadata": {
  "colab": {
   "collapsed_sections": [],
   "name": "Untitled",
   "provenance": []
  },
  "kernelspec": {
   "display_name": "Python 3",
   "language": "python",
   "name": "python3"
  },
  "language_info": {
   "codemirror_mode": {
    "name": "ipython",
    "version": 3
   },
   "file_extension": ".py",
   "mimetype": "text/x-python",
   "name": "python",
   "nbconvert_exporter": "python",
   "pygments_lexer": "ipython3",
   "version": "3.7.4"
  }
 },
 "nbformat": 4,
 "nbformat_minor": 1
}
